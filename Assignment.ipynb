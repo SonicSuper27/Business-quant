{
 "cells": [
  {
   "cell_type": "code",
   "execution_count": null,
   "id": "f0c3445c-11ec-4a59-933a-d07663b958ec",
   "metadata": {},
   "outputs": [],
   "source": []
  }
 ],
 "metadata": {
  "kernelspec": {
   "display_name": "",
   "name": ""
  },
  "language_info": {
   "name": ""
  }
 },
 "nbformat": 4,
 "nbformat_minor": 5
}
